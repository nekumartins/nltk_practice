{
 "cells": [
  {
   "cell_type": "code",
   "execution_count": 2,
   "metadata": {},
   "outputs": [
    {
     "name": "stderr",
     "output_type": "stream",
     "text": [
      "[nltk_data] Downloading package vader_lexicon to\n",
      "[nltk_data]     /home/riley/nltk_data...\n"
     ]
    }
   ],
   "source": [
    "import pandas as pd\n",
    "import nltk\n",
    "nltk.download('vader_lexicon')\n",
    "from nltk.sentiment import SentimentIntensityAnalyzer"
   ]
  },
  {
   "cell_type": "code",
   "execution_count": 3,
   "metadata": {},
   "outputs": [
    {
     "ename": "ValueError",
     "evalue": "Specified \\n as separator or delimiter. This forces the python engine which does not accept a line terminator. Hence it is not allowed to use the line terminator as separator.",
     "output_type": "error",
     "traceback": [
      "\u001b[0;31m---------------------------------------------------------------------------\u001b[0m",
      "\u001b[0;31mValueError\u001b[0m                                Traceback (most recent call last)",
      "\u001b[1;32m/home/riley/nltkp/test.ipynb Cell 2\u001b[0m line \u001b[0;36m2\n\u001b[1;32m      <a href='vscode-notebook-cell:/home/riley/nltkp/test.ipynb#W1sZmlsZQ%3D%3D?line=0'>1</a>\u001b[0m \u001b[39m# Read the data\u001b[39;00m\n\u001b[0;32m----> <a href='vscode-notebook-cell:/home/riley/nltkp/test.ipynb#W1sZmlsZQ%3D%3D?line=1'>2</a>\u001b[0m df \u001b[39m=\u001b[39m pd\u001b[39m.\u001b[39;49mread_csv(\u001b[39m'\u001b[39;49m\u001b[39mWhatsApp Chat with Favour.txt\u001b[39;49m\u001b[39m'\u001b[39;49m, sep\u001b[39m=\u001b[39;49m\u001b[39m'\u001b[39;49m\u001b[39m\\n\u001b[39;49;00m\u001b[39m'\u001b[39;49m, header\u001b[39m=\u001b[39;49m\u001b[39mNone\u001b[39;49;00m, names\u001b[39m=\u001b[39;49m[\u001b[39m'\u001b[39;49m\u001b[39mtext\u001b[39;49m\u001b[39m'\u001b[39;49m])\n",
      "File \u001b[0;32m~/anaconda3/envs/chatbot1/lib/python3.8/site-packages/pandas/io/parsers/readers.py:899\u001b[0m, in \u001b[0;36mread_csv\u001b[0;34m(filepath_or_buffer, sep, delimiter, header, names, index_col, usecols, dtype, engine, converters, true_values, false_values, skipinitialspace, skiprows, skipfooter, nrows, na_values, keep_default_na, na_filter, verbose, skip_blank_lines, parse_dates, infer_datetime_format, keep_date_col, date_parser, date_format, dayfirst, cache_dates, iterator, chunksize, compression, thousands, decimal, lineterminator, quotechar, quoting, doublequote, escapechar, comment, encoding, encoding_errors, dialect, on_bad_lines, delim_whitespace, low_memory, memory_map, float_precision, storage_options, dtype_backend)\u001b[0m\n\u001b[1;32m    896\u001b[0m \u001b[39mdel\u001b[39;00m kwds[\u001b[39m\"\u001b[39m\u001b[39mfilepath_or_buffer\u001b[39m\u001b[39m\"\u001b[39m]\n\u001b[1;32m    897\u001b[0m \u001b[39mdel\u001b[39;00m kwds[\u001b[39m\"\u001b[39m\u001b[39msep\u001b[39m\u001b[39m\"\u001b[39m]\n\u001b[0;32m--> 899\u001b[0m kwds_defaults \u001b[39m=\u001b[39m _refine_defaults_read(\n\u001b[1;32m    900\u001b[0m     dialect,\n\u001b[1;32m    901\u001b[0m     delimiter,\n\u001b[1;32m    902\u001b[0m     delim_whitespace,\n\u001b[1;32m    903\u001b[0m     engine,\n\u001b[1;32m    904\u001b[0m     sep,\n\u001b[1;32m    905\u001b[0m     on_bad_lines,\n\u001b[1;32m    906\u001b[0m     names,\n\u001b[1;32m    907\u001b[0m     defaults\u001b[39m=\u001b[39;49m{\u001b[39m\"\u001b[39;49m\u001b[39mdelimiter\u001b[39;49m\u001b[39m\"\u001b[39;49m: \u001b[39m\"\u001b[39;49m\u001b[39m,\u001b[39;49m\u001b[39m\"\u001b[39;49m},\n\u001b[1;32m    908\u001b[0m     dtype_backend\u001b[39m=\u001b[39;49mdtype_backend,\n\u001b[1;32m    909\u001b[0m )\n\u001b[1;32m    910\u001b[0m kwds\u001b[39m.\u001b[39mupdate(kwds_defaults)\n\u001b[1;32m    912\u001b[0m \u001b[39mreturn\u001b[39;00m _read(filepath_or_buffer, kwds)\n",
      "File \u001b[0;32m~/anaconda3/envs/chatbot1/lib/python3.8/site-packages/pandas/io/parsers/readers.py:1971\u001b[0m, in \u001b[0;36m_refine_defaults_read\u001b[0;34m(dialect, delimiter, delim_whitespace, engine, sep, on_bad_lines, names, defaults, dtype_backend)\u001b[0m\n\u001b[1;32m   1965\u001b[0m     \u001b[39mraise\u001b[39;00m \u001b[39mValueError\u001b[39;00m(\n\u001b[1;32m   1966\u001b[0m         \u001b[39m\"\u001b[39m\u001b[39mSpecified a delimiter with both sep and \u001b[39m\u001b[39m\"\u001b[39m\n\u001b[1;32m   1967\u001b[0m         \u001b[39m\"\u001b[39m\u001b[39mdelim_whitespace=True; you can only specify one.\u001b[39m\u001b[39m\"\u001b[39m\n\u001b[1;32m   1968\u001b[0m     )\n\u001b[1;32m   1970\u001b[0m \u001b[39mif\u001b[39;00m delimiter \u001b[39m==\u001b[39m \u001b[39m\"\u001b[39m\u001b[39m\\n\u001b[39;00m\u001b[39m\"\u001b[39m:\n\u001b[0;32m-> 1971\u001b[0m     \u001b[39mraise\u001b[39;00m \u001b[39mValueError\u001b[39;00m(\n\u001b[1;32m   1972\u001b[0m         \u001b[39mr\u001b[39m\u001b[39m\"\u001b[39m\u001b[39mSpecified \u001b[39m\u001b[39m\\\u001b[39m\u001b[39mn as separator or delimiter. This forces the python engine \u001b[39m\u001b[39m\"\u001b[39m\n\u001b[1;32m   1973\u001b[0m         \u001b[39m\"\u001b[39m\u001b[39mwhich does not accept a line terminator. Hence it is not allowed to use \u001b[39m\u001b[39m\"\u001b[39m\n\u001b[1;32m   1974\u001b[0m         \u001b[39m\"\u001b[39m\u001b[39mthe line terminator as separator.\u001b[39m\u001b[39m\"\u001b[39m,\n\u001b[1;32m   1975\u001b[0m     )\n\u001b[1;32m   1977\u001b[0m \u001b[39mif\u001b[39;00m delimiter \u001b[39mis\u001b[39;00m lib\u001b[39m.\u001b[39mno_default:\n\u001b[1;32m   1978\u001b[0m     \u001b[39m# assign default separator value\u001b[39;00m\n\u001b[1;32m   1979\u001b[0m     kwds[\u001b[39m\"\u001b[39m\u001b[39mdelimiter\u001b[39m\u001b[39m\"\u001b[39m] \u001b[39m=\u001b[39m delim_default\n",
      "\u001b[0;31mValueError\u001b[0m: Specified \\n as separator or delimiter. This forces the python engine which does not accept a line terminator. Hence it is not allowed to use the line terminator as separator."
     ]
    }
   ],
   "source": [
    "# Read the data\n",
    "df = pd.read_csv('WhatsApp Chat with Favour.txt', sep='\\n', header=None, names=['text'])"
   ]
  },
  {
   "cell_type": "code",
   "execution_count": null,
   "metadata": {},
   "outputs": [],
   "source": [
    "# Remove metadata and keep only the message\n",
    "df['text'] = df['text'].str.replace('\\[.*\\]', '')\n",
    "\n",
    "\n",
    "# Remove empty messages\n",
    "df = df[df['text'].str.strip().astype(bool)]"
   ]
  },
  {
   "cell_type": "code",
   "execution_count": null,
   "metadata": {},
   "outputs": [],
   "source": [
    "# Initialize the sentiment analyze\n",
    "sia = SentimentIntensityAnalyzer()\n",
    "\n",
    "\n",
    "# Apply sentiment analysis to each message\n",
    "df['sentiment_scores'] = df['text'].apply(lambda text: sia.polarity_scores(text))"
   ]
  },
  {
   "cell_type": "code",
   "execution_count": null,
   "metadata": {},
   "outputs": [],
   "source": [
    "df['compound_score'] = df['sentiment_scores'].apply(lambda score: score['compound'])\n",
    "df['positive_score'] = df['sentiment_scores'].apply(lambda score: score['pos'])\n",
    "df['negative_score'] = df['sentiment_scores'].apply(lambda score: score['neg'])\n",
    "df['neutral_score'] = df['sentiment_scores'].apply(lambda score: score['neu'])"
   ]
  },
  {
   "cell_type": "code",
   "execution_count": null,
   "metadata": {},
   "outputs": [
    {
     "ename": "NameError",
     "evalue": "name 'df' is not defined",
     "output_type": "error",
     "traceback": [
      "\u001b[0;31m---------------------------------------------------------------------------\u001b[0m",
      "\u001b[0;31mNameError\u001b[0m                                 Traceback (most recent call last)",
      "\u001b[1;32m/home/riley/nltkp/test.ipynb Cell 6\u001b[0m line \u001b[0;36m5\n\u001b[1;32m      <a href='vscode-notebook-cell:/home/riley/nltkp/test.ipynb#W5sZmlsZQ%3D%3D?line=0'>1</a>\u001b[0m \u001b[39mimport\u001b[39;00m \u001b[39mmatplotlib\u001b[39;00m\u001b[39m.\u001b[39;00m\u001b[39mpyplot\u001b[39;00m \u001b[39mas\u001b[39;00m \u001b[39mplt\u001b[39;00m\n\u001b[1;32m      <a href='vscode-notebook-cell:/home/riley/nltkp/test.ipynb#W5sZmlsZQ%3D%3D?line=3'>4</a>\u001b[0m \u001b[39m# Plot sentiment scores over time\u001b[39;00m\n\u001b[0;32m----> <a href='vscode-notebook-cell:/home/riley/nltkp/test.ipynb#W5sZmlsZQ%3D%3D?line=4'>5</a>\u001b[0m plt\u001b[39m.\u001b[39mplot(df\u001b[39m.\u001b[39mindex, df[\u001b[39m'\u001b[39m\u001b[39mcompound_score\u001b[39m\u001b[39m'\u001b[39m], label\u001b[39m=\u001b[39m\u001b[39m'\u001b[39m\u001b[39mCompound\u001b[39m\u001b[39m'\u001b[39m)\n\u001b[1;32m      <a href='vscode-notebook-cell:/home/riley/nltkp/test.ipynb#W5sZmlsZQ%3D%3D?line=5'>6</a>\u001b[0m plt\u001b[39m.\u001b[39mplot(df\u001b[39m.\u001b[39mindex, df[\u001b[39m'\u001b[39m\u001b[39mpositive_score\u001b[39m\u001b[39m'\u001b[39m], label\u001b[39m=\u001b[39m\u001b[39m'\u001b[39m\u001b[39mPositive\u001b[39m\u001b[39m'\u001b[39m)\n\u001b[1;32m      <a href='vscode-notebook-cell:/home/riley/nltkp/test.ipynb#W5sZmlsZQ%3D%3D?line=6'>7</a>\u001b[0m plt\u001b[39m.\u001b[39mplot(df\u001b[39m.\u001b[39mindex, df[\u001b[39m'\u001b[39m\u001b[39mnegative_score\u001b[39m\u001b[39m'\u001b[39m], label\u001b[39m=\u001b[39m\u001b[39m'\u001b[39m\u001b[39mNegative\u001b[39m\u001b[39m'\u001b[39m)\n",
      "\u001b[0;31mNameError\u001b[0m: name 'df' is not defined"
     ]
    }
   ],
   "source": [
    "import matplotlib.pyplot as plt\n",
    "\n",
    "\n",
    "# Plot sentiment scores over time\n",
    "plt.plot(df.index, df['compound_score'], label='Compound')\n",
    "plt.plot(df.index, df['positive_score'], label='Positive')\n",
    "plt.plot(df.index, df['negative_score'], label='Negative')\n",
    "plt.plot(df.index, df['neutral_score'], label='Neutral')\n",
    "\n",
    "\n",
    "# Set plot labels and legend\n",
    "plt.xlabel('Message Index')\n",
    "plt.ylabel('Sentiment Score')\n",
    "plt.legend()\n",
    "\n",
    "# Show the plot\n",
    "plt.show()"
   ]
  },
  {
   "cell_type": "code",
   "execution_count": null,
   "metadata": {},
   "outputs": [],
   "source": []
  }
 ],
 "metadata": {
  "kernelspec": {
   "display_name": "chatbot1",
   "language": "python",
   "name": "python3"
  },
  "language_info": {
   "codemirror_mode": {
    "name": "ipython",
    "version": 3
   },
   "file_extension": ".py",
   "mimetype": "text/x-python",
   "name": "python",
   "nbconvert_exporter": "python",
   "pygments_lexer": "ipython3",
   "version": "3.8.18"
  },
  "orig_nbformat": 4
 },
 "nbformat": 4,
 "nbformat_minor": 2
}
